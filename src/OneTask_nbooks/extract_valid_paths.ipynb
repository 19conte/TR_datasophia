{
 "metadata": {
  "language_info": {
   "codemirror_mode": {
    "name": "ipython",
    "version": 3
   },
   "file_extension": ".py",
   "mimetype": "text/x-python",
   "name": "python",
   "nbconvert_exporter": "python",
   "pygments_lexer": "ipython3",
   "version": "3.7.9-final"
  },
  "orig_nbformat": 2,
  "kernelspec": {
   "name": "python3",
   "display_name": "Python 3",
   "language": "python"
  }
 },
 "nbformat": 4,
 "nbformat_minor": 2,
 "cells": [
  {
   "source": [
    "# Paths of valid images\n",
    "\n",
    "In this notebook, we extract paths of images for which the solar radiation values are valid."
   ],
   "cell_type": "markdown",
   "metadata": {}
  },
  {
   "cell_type": "code",
   "execution_count": 5,
   "metadata": {},
   "outputs": [],
   "source": [
    "import numpy as np\n",
    "import pandas as pd\n",
    "from fnmatch import fnmatch\n",
    "import os"
   ]
  },
  {
   "source": [
    "### for the ~16000 valid images, 5 min spaced."
   ],
   "cell_type": "markdown",
   "metadata": {}
  },
  {
   "cell_type": "code",
   "execution_count": 6,
   "metadata": {},
   "outputs": [],
   "source": [
    "camera_name = 'mobotix1'\n",
    "images_folder_path = \"../../Solais_Data/FTP\""
   ]
  },
  {
   "cell_type": "code",
   "execution_count": 40,
   "metadata": {},
   "outputs": [
    {
     "output_type": "execute_result",
     "data": {
      "text/plain": [
       "             Timestamp  gray_concentric0_mean  gray_concentric0_std  \\\n",
       "0  2020-06-20 06:33:00               0.033073              0.003901   \n",
       "1  2020-06-20 06:38:00               0.042338              0.004321   \n",
       "2  2020-06-20 06:43:00               0.026753              0.002712   \n",
       "3  2020-06-20 06:48:00               0.022493              0.002691   \n",
       "4  2020-06-20 06:53:00               0.024859              0.002889   \n",
       "5  2020-06-20 06:58:00               0.029551              0.003826   \n",
       "6  2020-06-20 07:03:00               0.033474              0.004343   \n",
       "7  2020-06-20 07:08:00               0.036386              0.005623   \n",
       "8  2020-06-20 07:13:00               0.045561              0.010903   \n",
       "9  2020-06-20 07:18:00               0.071576              0.021793   \n",
       "\n",
       "   gray_concentric0_smoothness  gray_concentric0_skewness  \\\n",
       "0                     0.000015                   0.076168   \n",
       "1                     0.000019                   0.292108   \n",
       "2                     0.000007                   0.880031   \n",
       "3                     0.000007                   1.104797   \n",
       "4                     0.000008                   0.267025   \n",
       "5                     0.000015                   0.335292   \n",
       "6                     0.000019                   0.423644   \n",
       "7                     0.000032                   1.135848   \n",
       "8                     0.000119                   1.699767   \n",
       "9                     0.000475                   0.743199   \n",
       "\n",
       "   gray_concentric0_entropy  gray_concentric1_mean  gray_concentric1_std  \\\n",
       "0                  3.002126               0.040017              0.006983   \n",
       "1                  3.101799               0.051748              0.009400   \n",
       "2                  1.859379               0.033751              0.006900   \n",
       "3                  1.419124               0.028993              0.007165   \n",
       "4                  2.387260               0.030767              0.008043   \n",
       "5                  2.150311               0.037085              0.009809   \n",
       "6                  2.345576               0.043297              0.013431   \n",
       "7                  2.990002               0.049542              0.021758   \n",
       "8                  3.803160               0.063757              0.029183   \n",
       "9                  5.405326               0.088466              0.036290   \n",
       "\n",
       "   gray_concentric1_smoothness  gray_concentric1_skewness  ...  clearsky_dni  \\\n",
       "0                     0.000049                   1.063612  ...    523.008808   \n",
       "1                     0.000088                   1.225713  ...    619.571102   \n",
       "2                     0.000048                   1.214367  ...    694.243703   \n",
       "3                     0.000051                   1.216869  ...    752.065994   \n",
       "4                     0.000065                   1.532496  ...    797.436717   \n",
       "5                     0.000096                   1.450653  ...    833.635163   \n",
       "6                     0.000180                   1.734723  ...    863.002859   \n",
       "7                     0.000473                   1.735035  ...    887.202666   \n",
       "8                     0.000851                   1.276920  ...    907.426127   \n",
       "9                     0.001315                   0.796047  ...    924.539449   \n",
       "\n",
       "   clearsky_dhi  apparent_zenith     zenith  apparent_elevation  elevation  \\\n",
       "0      0.559849        87.751066  88.030116            2.248934   1.969884   \n",
       "1      0.974757        86.693645  86.913528            3.306355   3.086472   \n",
       "2      1.447908        85.615134  85.794776            4.384866   4.205224   \n",
       "3      1.958091        84.523011  84.673958            5.476989   5.326042   \n",
       "4      2.492088        83.421527  83.551169            6.578473   6.448831   \n",
       "5      3.041682        82.313216  82.426501            7.686784   7.573499   \n",
       "6      3.601629        81.199667  81.300042            8.800333   8.699958   \n",
       "7      4.168459        80.081931  80.171878            9.918069   9.828122   \n",
       "8      4.739776        78.960732  79.042093           11.039268  10.957907   \n",
       "9      5.313862        77.836593  77.910766           12.163407  12.089234   \n",
       "\n",
       "     azimuth  equation_of_time  ghi_clipped        Kc  \n",
       "0  66.387850         -1.636136      13.3675  0.633730  \n",
       "1  66.649220         -1.636898      18.8975  0.514661  \n",
       "2  66.901419         -1.637659      25.2800  0.463540  \n",
       "3  67.144588         -1.638421      31.8800  0.432273  \n",
       "4  67.378853         -1.639183      40.9900  0.436716  \n",
       "5  67.604326         -1.639944      50.0675  0.437054  \n",
       "6  67.821102         -1.640706      57.1100  0.421029  \n",
       "7  68.029263         -1.641467      63.6350  0.405344  \n",
       "8  68.228874         -1.642229      77.7025  0.435295  \n",
       "9  68.419987         -1.642991      98.0925  0.490157  \n",
       "\n",
       "[10 rows x 113 columns]"
      ],
      "text/html": "<div>\n<style scoped>\n    .dataframe tbody tr th:only-of-type {\n        vertical-align: middle;\n    }\n\n    .dataframe tbody tr th {\n        vertical-align: top;\n    }\n\n    .dataframe thead th {\n        text-align: right;\n    }\n</style>\n<table border=\"1\" class=\"dataframe\">\n  <thead>\n    <tr style=\"text-align: right;\">\n      <th></th>\n      <th>Timestamp</th>\n      <th>gray_concentric0_mean</th>\n      <th>gray_concentric0_std</th>\n      <th>gray_concentric0_smoothness</th>\n      <th>gray_concentric0_skewness</th>\n      <th>gray_concentric0_entropy</th>\n      <th>gray_concentric1_mean</th>\n      <th>gray_concentric1_std</th>\n      <th>gray_concentric1_smoothness</th>\n      <th>gray_concentric1_skewness</th>\n      <th>...</th>\n      <th>clearsky_dni</th>\n      <th>clearsky_dhi</th>\n      <th>apparent_zenith</th>\n      <th>zenith</th>\n      <th>apparent_elevation</th>\n      <th>elevation</th>\n      <th>azimuth</th>\n      <th>equation_of_time</th>\n      <th>ghi_clipped</th>\n      <th>Kc</th>\n    </tr>\n  </thead>\n  <tbody>\n    <tr>\n      <th>0</th>\n      <td>2020-06-20 06:33:00</td>\n      <td>0.033073</td>\n      <td>0.003901</td>\n      <td>0.000015</td>\n      <td>0.076168</td>\n      <td>3.002126</td>\n      <td>0.040017</td>\n      <td>0.006983</td>\n      <td>0.000049</td>\n      <td>1.063612</td>\n      <td>...</td>\n      <td>523.008808</td>\n      <td>0.559849</td>\n      <td>87.751066</td>\n      <td>88.030116</td>\n      <td>2.248934</td>\n      <td>1.969884</td>\n      <td>66.387850</td>\n      <td>-1.636136</td>\n      <td>13.3675</td>\n      <td>0.633730</td>\n    </tr>\n    <tr>\n      <th>1</th>\n      <td>2020-06-20 06:38:00</td>\n      <td>0.042338</td>\n      <td>0.004321</td>\n      <td>0.000019</td>\n      <td>0.292108</td>\n      <td>3.101799</td>\n      <td>0.051748</td>\n      <td>0.009400</td>\n      <td>0.000088</td>\n      <td>1.225713</td>\n      <td>...</td>\n      <td>619.571102</td>\n      <td>0.974757</td>\n      <td>86.693645</td>\n      <td>86.913528</td>\n      <td>3.306355</td>\n      <td>3.086472</td>\n      <td>66.649220</td>\n      <td>-1.636898</td>\n      <td>18.8975</td>\n      <td>0.514661</td>\n    </tr>\n    <tr>\n      <th>2</th>\n      <td>2020-06-20 06:43:00</td>\n      <td>0.026753</td>\n      <td>0.002712</td>\n      <td>0.000007</td>\n      <td>0.880031</td>\n      <td>1.859379</td>\n      <td>0.033751</td>\n      <td>0.006900</td>\n      <td>0.000048</td>\n      <td>1.214367</td>\n      <td>...</td>\n      <td>694.243703</td>\n      <td>1.447908</td>\n      <td>85.615134</td>\n      <td>85.794776</td>\n      <td>4.384866</td>\n      <td>4.205224</td>\n      <td>66.901419</td>\n      <td>-1.637659</td>\n      <td>25.2800</td>\n      <td>0.463540</td>\n    </tr>\n    <tr>\n      <th>3</th>\n      <td>2020-06-20 06:48:00</td>\n      <td>0.022493</td>\n      <td>0.002691</td>\n      <td>0.000007</td>\n      <td>1.104797</td>\n      <td>1.419124</td>\n      <td>0.028993</td>\n      <td>0.007165</td>\n      <td>0.000051</td>\n      <td>1.216869</td>\n      <td>...</td>\n      <td>752.065994</td>\n      <td>1.958091</td>\n      <td>84.523011</td>\n      <td>84.673958</td>\n      <td>5.476989</td>\n      <td>5.326042</td>\n      <td>67.144588</td>\n      <td>-1.638421</td>\n      <td>31.8800</td>\n      <td>0.432273</td>\n    </tr>\n    <tr>\n      <th>4</th>\n      <td>2020-06-20 06:53:00</td>\n      <td>0.024859</td>\n      <td>0.002889</td>\n      <td>0.000008</td>\n      <td>0.267025</td>\n      <td>2.387260</td>\n      <td>0.030767</td>\n      <td>0.008043</td>\n      <td>0.000065</td>\n      <td>1.532496</td>\n      <td>...</td>\n      <td>797.436717</td>\n      <td>2.492088</td>\n      <td>83.421527</td>\n      <td>83.551169</td>\n      <td>6.578473</td>\n      <td>6.448831</td>\n      <td>67.378853</td>\n      <td>-1.639183</td>\n      <td>40.9900</td>\n      <td>0.436716</td>\n    </tr>\n    <tr>\n      <th>5</th>\n      <td>2020-06-20 06:58:00</td>\n      <td>0.029551</td>\n      <td>0.003826</td>\n      <td>0.000015</td>\n      <td>0.335292</td>\n      <td>2.150311</td>\n      <td>0.037085</td>\n      <td>0.009809</td>\n      <td>0.000096</td>\n      <td>1.450653</td>\n      <td>...</td>\n      <td>833.635163</td>\n      <td>3.041682</td>\n      <td>82.313216</td>\n      <td>82.426501</td>\n      <td>7.686784</td>\n      <td>7.573499</td>\n      <td>67.604326</td>\n      <td>-1.639944</td>\n      <td>50.0675</td>\n      <td>0.437054</td>\n    </tr>\n    <tr>\n      <th>6</th>\n      <td>2020-06-20 07:03:00</td>\n      <td>0.033474</td>\n      <td>0.004343</td>\n      <td>0.000019</td>\n      <td>0.423644</td>\n      <td>2.345576</td>\n      <td>0.043297</td>\n      <td>0.013431</td>\n      <td>0.000180</td>\n      <td>1.734723</td>\n      <td>...</td>\n      <td>863.002859</td>\n      <td>3.601629</td>\n      <td>81.199667</td>\n      <td>81.300042</td>\n      <td>8.800333</td>\n      <td>8.699958</td>\n      <td>67.821102</td>\n      <td>-1.640706</td>\n      <td>57.1100</td>\n      <td>0.421029</td>\n    </tr>\n    <tr>\n      <th>7</th>\n      <td>2020-06-20 07:08:00</td>\n      <td>0.036386</td>\n      <td>0.005623</td>\n      <td>0.000032</td>\n      <td>1.135848</td>\n      <td>2.990002</td>\n      <td>0.049542</td>\n      <td>0.021758</td>\n      <td>0.000473</td>\n      <td>1.735035</td>\n      <td>...</td>\n      <td>887.202666</td>\n      <td>4.168459</td>\n      <td>80.081931</td>\n      <td>80.171878</td>\n      <td>9.918069</td>\n      <td>9.828122</td>\n      <td>68.029263</td>\n      <td>-1.641467</td>\n      <td>63.6350</td>\n      <td>0.405344</td>\n    </tr>\n    <tr>\n      <th>8</th>\n      <td>2020-06-20 07:13:00</td>\n      <td>0.045561</td>\n      <td>0.010903</td>\n      <td>0.000119</td>\n      <td>1.699767</td>\n      <td>3.803160</td>\n      <td>0.063757</td>\n      <td>0.029183</td>\n      <td>0.000851</td>\n      <td>1.276920</td>\n      <td>...</td>\n      <td>907.426127</td>\n      <td>4.739776</td>\n      <td>78.960732</td>\n      <td>79.042093</td>\n      <td>11.039268</td>\n      <td>10.957907</td>\n      <td>68.228874</td>\n      <td>-1.642229</td>\n      <td>77.7025</td>\n      <td>0.435295</td>\n    </tr>\n    <tr>\n      <th>9</th>\n      <td>2020-06-20 07:18:00</td>\n      <td>0.071576</td>\n      <td>0.021793</td>\n      <td>0.000475</td>\n      <td>0.743199</td>\n      <td>5.405326</td>\n      <td>0.088466</td>\n      <td>0.036290</td>\n      <td>0.001315</td>\n      <td>0.796047</td>\n      <td>...</td>\n      <td>924.539449</td>\n      <td>5.313862</td>\n      <td>77.836593</td>\n      <td>77.910766</td>\n      <td>12.163407</td>\n      <td>12.089234</td>\n      <td>68.419987</td>\n      <td>-1.642991</td>\n      <td>98.0925</td>\n      <td>0.490157</td>\n    </tr>\n  </tbody>\n</table>\n<p>10 rows × 113 columns</p>\n</div>"
     },
     "metadata": {},
     "execution_count": 40
    }
   ],
   "source": [
    "GHI_target = pd.read_csv(\"../Models/data/dataset_final.csv\")\n",
    "GHI_target.rename(columns={\"Unnamed: 0\": \"Timestamp\"}, inplace=True)\n",
    "GHI_target.head(10)"
   ]
  },
  {
   "cell_type": "code",
   "execution_count": 9,
   "metadata": {},
   "outputs": [],
   "source": [
    "GHI_target[\"Timestamp\"] = pd.to_datetime(GHI_target[\"Timestamp\"], format='%Y-%m-%d %H:%M:%S')\n",
    "GHI_target[\"date\"] = GHI_target[\"Timestamp\"].dt.date\n",
    "GHI_target[\"time\"] = GHI_target[\"Timestamp\"].dt.time\n",
    "GHI_target = GHI_target[[\"Timestamp\", \"date\", \"time\"]]"
   ]
  },
  {
   "cell_type": "code",
   "execution_count": 5,
   "metadata": {},
   "outputs": [
    {
     "output_type": "execute_result",
     "data": {
      "text/plain": [
       "                Timestamp        date      time\n",
       "0     2020-06-20 06:33:00  2020-06-20  06:33:00\n",
       "1     2020-06-20 06:38:00  2020-06-20  06:38:00\n",
       "2     2020-06-20 06:43:00  2020-06-20  06:43:00\n",
       "3     2020-06-20 06:48:00  2020-06-20  06:48:00\n",
       "4     2020-06-20 06:53:00  2020-06-20  06:53:00\n",
       "...                   ...         ...       ...\n",
       "17365 2020-10-22 17:48:00  2020-10-22  17:48:00\n",
       "17366 2020-10-22 17:53:00  2020-10-22  17:53:00\n",
       "17367 2020-10-22 17:58:00  2020-10-22  17:58:00\n",
       "17368 2020-10-22 18:03:00  2020-10-22  18:03:00\n",
       "17369 2020-10-22 18:08:00  2020-10-22  18:08:00\n",
       "\n",
       "[17370 rows x 3 columns]"
      ],
      "text/html": "<div>\n<style scoped>\n    .dataframe tbody tr th:only-of-type {\n        vertical-align: middle;\n    }\n\n    .dataframe tbody tr th {\n        vertical-align: top;\n    }\n\n    .dataframe thead th {\n        text-align: right;\n    }\n</style>\n<table border=\"1\" class=\"dataframe\">\n  <thead>\n    <tr style=\"text-align: right;\">\n      <th></th>\n      <th>Timestamp</th>\n      <th>date</th>\n      <th>time</th>\n    </tr>\n  </thead>\n  <tbody>\n    <tr>\n      <th>0</th>\n      <td>2020-06-20 06:33:00</td>\n      <td>2020-06-20</td>\n      <td>06:33:00</td>\n    </tr>\n    <tr>\n      <th>1</th>\n      <td>2020-06-20 06:38:00</td>\n      <td>2020-06-20</td>\n      <td>06:38:00</td>\n    </tr>\n    <tr>\n      <th>2</th>\n      <td>2020-06-20 06:43:00</td>\n      <td>2020-06-20</td>\n      <td>06:43:00</td>\n    </tr>\n    <tr>\n      <th>3</th>\n      <td>2020-06-20 06:48:00</td>\n      <td>2020-06-20</td>\n      <td>06:48:00</td>\n    </tr>\n    <tr>\n      <th>4</th>\n      <td>2020-06-20 06:53:00</td>\n      <td>2020-06-20</td>\n      <td>06:53:00</td>\n    </tr>\n    <tr>\n      <th>...</th>\n      <td>...</td>\n      <td>...</td>\n      <td>...</td>\n    </tr>\n    <tr>\n      <th>17365</th>\n      <td>2020-10-22 17:48:00</td>\n      <td>2020-10-22</td>\n      <td>17:48:00</td>\n    </tr>\n    <tr>\n      <th>17366</th>\n      <td>2020-10-22 17:53:00</td>\n      <td>2020-10-22</td>\n      <td>17:53:00</td>\n    </tr>\n    <tr>\n      <th>17367</th>\n      <td>2020-10-22 17:58:00</td>\n      <td>2020-10-22</td>\n      <td>17:58:00</td>\n    </tr>\n    <tr>\n      <th>17368</th>\n      <td>2020-10-22 18:03:00</td>\n      <td>2020-10-22</td>\n      <td>18:03:00</td>\n    </tr>\n    <tr>\n      <th>17369</th>\n      <td>2020-10-22 18:08:00</td>\n      <td>2020-10-22</td>\n      <td>18:08:00</td>\n    </tr>\n  </tbody>\n</table>\n<p>17370 rows × 3 columns</p>\n</div>"
     },
     "metadata": {},
     "execution_count": 5
    }
   ],
   "source": [
    "GHI_target"
   ]
  },
  {
   "cell_type": "code",
   "execution_count": 10,
   "metadata": {},
   "outputs": [],
   "source": [
    "valid_days = GHI_target[\"date\"].unique()\n",
    "day0 = valid_days[0]"
   ]
  },
  {
   "cell_type": "code",
   "execution_count": 11,
   "metadata": {},
   "outputs": [
    {
     "output_type": "execute_result",
     "data": {
      "text/plain": [
       "              Timestamp        date      time\n",
       "0   2020-06-20 06:33:00  2020-06-20  06:33:00\n",
       "1   2020-06-20 06:38:00  2020-06-20  06:38:00\n",
       "2   2020-06-20 06:43:00  2020-06-20  06:43:00\n",
       "3   2020-06-20 06:48:00  2020-06-20  06:48:00\n",
       "4   2020-06-20 06:53:00  2020-06-20  06:53:00\n",
       "..                  ...         ...       ...\n",
       "143 2020-06-20 18:28:00  2020-06-20  18:28:00\n",
       "144 2020-06-20 18:33:00  2020-06-20  18:33:00\n",
       "145 2020-06-20 18:38:00  2020-06-20  18:38:00\n",
       "146 2020-06-20 18:43:00  2020-06-20  18:43:00\n",
       "147 2020-06-20 18:48:00  2020-06-20  18:48:00\n",
       "\n",
       "[148 rows x 3 columns]"
      ],
      "text/html": "<div>\n<style scoped>\n    .dataframe tbody tr th:only-of-type {\n        vertical-align: middle;\n    }\n\n    .dataframe tbody tr th {\n        vertical-align: top;\n    }\n\n    .dataframe thead th {\n        text-align: right;\n    }\n</style>\n<table border=\"1\" class=\"dataframe\">\n  <thead>\n    <tr style=\"text-align: right;\">\n      <th></th>\n      <th>Timestamp</th>\n      <th>date</th>\n      <th>time</th>\n    </tr>\n  </thead>\n  <tbody>\n    <tr>\n      <th>0</th>\n      <td>2020-06-20 06:33:00</td>\n      <td>2020-06-20</td>\n      <td>06:33:00</td>\n    </tr>\n    <tr>\n      <th>1</th>\n      <td>2020-06-20 06:38:00</td>\n      <td>2020-06-20</td>\n      <td>06:38:00</td>\n    </tr>\n    <tr>\n      <th>2</th>\n      <td>2020-06-20 06:43:00</td>\n      <td>2020-06-20</td>\n      <td>06:43:00</td>\n    </tr>\n    <tr>\n      <th>3</th>\n      <td>2020-06-20 06:48:00</td>\n      <td>2020-06-20</td>\n      <td>06:48:00</td>\n    </tr>\n    <tr>\n      <th>4</th>\n      <td>2020-06-20 06:53:00</td>\n      <td>2020-06-20</td>\n      <td>06:53:00</td>\n    </tr>\n    <tr>\n      <th>...</th>\n      <td>...</td>\n      <td>...</td>\n      <td>...</td>\n    </tr>\n    <tr>\n      <th>143</th>\n      <td>2020-06-20 18:28:00</td>\n      <td>2020-06-20</td>\n      <td>18:28:00</td>\n    </tr>\n    <tr>\n      <th>144</th>\n      <td>2020-06-20 18:33:00</td>\n      <td>2020-06-20</td>\n      <td>18:33:00</td>\n    </tr>\n    <tr>\n      <th>145</th>\n      <td>2020-06-20 18:38:00</td>\n      <td>2020-06-20</td>\n      <td>18:38:00</td>\n    </tr>\n    <tr>\n      <th>146</th>\n      <td>2020-06-20 18:43:00</td>\n      <td>2020-06-20</td>\n      <td>18:43:00</td>\n    </tr>\n    <tr>\n      <th>147</th>\n      <td>2020-06-20 18:48:00</td>\n      <td>2020-06-20</td>\n      <td>18:48:00</td>\n    </tr>\n  </tbody>\n</table>\n<p>148 rows × 3 columns</p>\n</div>"
     },
     "metadata": {},
     "execution_count": 11
    }
   ],
   "source": [
    "GHI_target[GHI_target.date == day0]"
   ]
  },
  {
   "cell_type": "code",
   "execution_count": 12,
   "metadata": {},
   "outputs": [],
   "source": [
    "def get_valid_patterns(day, dataset):\n",
    "    time_gen = [str(time)[:-3] for time in dataset[dataset.date == day][\"time\"]]\n",
    "    return [time[0:2]+\"_\"+time[3:5]+\"*\" for time in time_gen]"
   ]
  },
  {
   "cell_type": "code",
   "execution_count": 13,
   "metadata": {},
   "outputs": [],
   "source": [
    "patterns0 = get_valid_patterns(day0, GHI_target)"
   ]
  },
  {
   "cell_type": "code",
   "execution_count": 14,
   "metadata": {},
   "outputs": [],
   "source": [
    "def get_valid_paths(day, dataset):\n",
    "    \"\"\" Gets path for every image of day (datetime.date)\n",
    "    \"\"\"    \n",
    "    day_name = str(day)\n",
    "    print(f\"Compute paths for {day_name}\")\n",
    "    camera_day_path = images_folder_path + '/' + day_name + '/' + camera_name + '/'\n",
    "    filenames = os.listdir(camera_day_path)\n",
    "    return filenames\n",
    "    valid_patterns = get_valid_patterns(day, dataset=dataset)\n",
    "    # format is \"HH:MM:\"\n",
    "    for pattern in valid_patterns:\n",
    "        for filename in filenames:\n",
    "            if fnmatch(filename, pattern):\n",
    "                path = camera_day_path + filename\n",
    "                yield path"
   ]
  },
  {
   "cell_type": "code",
   "execution_count": 15,
   "metadata": {
    "tags": []
   },
   "outputs": [],
   "source": [
    "filenames0 = get_valid_paths(day0, GHI_target)"
   ]
  },
  {
   "cell_type": "code",
   "execution_count": 16,
   "metadata": {},
   "outputs": [
    {
     "output_type": "stream",
     "name": "stdout",
     "text": [
      "Compute paths for 2020-06-20\n"
     ]
    }
   ],
   "source": [
    "for pattern in patterns0:\n",
    "    for filename in filenames0:\n",
    "        if fnmatch(filename, pattern):\n",
    "            print(\"match\")"
   ]
  },
  {
   "cell_type": "code",
   "execution_count": 17,
   "metadata": {},
   "outputs": [],
   "source": [
    "def path_per_day(day, dataset):\n",
    "    return (path for path in get_valid_paths(day, dataset))"
   ]
  },
  {
   "cell_type": "code",
   "execution_count": 18,
   "metadata": {},
   "outputs": [],
   "source": [
    "path_gen = (path_per_day(day, GHI_target) for day in valid_days)"
   ]
  },
  {
   "cell_type": "code",
   "execution_count": 10,
   "metadata": {},
   "outputs": [
    {
     "output_type": "stream",
     "name": "stdout",
     "text": [
      "Compute paths for 2020-06-20\n",
      "Compute paths for 2020-06-21\n",
      "Compute paths for 2020-06-22\n",
      "Compute paths for 2020-06-23\n",
      "Compute paths for 2020-06-24\n",
      "Compute paths for 2020-06-25\n",
      "Compute paths for 2020-06-26\n",
      "Compute paths for 2020-06-27\n",
      "Compute paths for 2020-06-28\n",
      "Compute paths for 2020-06-29\n",
      "Compute paths for 2020-06-30\n",
      "Compute paths for 2020-07-01\n",
      "Compute paths for 2020-07-02\n",
      "Compute paths for 2020-07-03\n",
      "Compute paths for 2020-07-04\n",
      "Compute paths for 2020-07-05\n",
      "Compute paths for 2020-07-06\n",
      "Compute paths for 2020-07-07\n",
      "Compute paths for 2020-07-08\n",
      "Compute paths for 2020-07-09\n",
      "Compute paths for 2020-07-10\n",
      "Compute paths for 2020-07-11\n",
      "Compute paths for 2020-07-12\n",
      "Compute paths for 2020-07-13\n",
      "Compute paths for 2020-07-14\n",
      "Compute paths for 2020-07-15\n",
      "Compute paths for 2020-07-16\n",
      "Compute paths for 2020-07-17\n",
      "Compute paths for 2020-07-18\n",
      "Compute paths for 2020-07-19\n",
      "Compute paths for 2020-07-20\n",
      "Compute paths for 2020-07-21\n",
      "Compute paths for 2020-07-22\n",
      "Compute paths for 2020-07-23\n",
      "Compute paths for 2020-07-24\n",
      "Compute paths for 2020-07-25\n",
      "Compute paths for 2020-07-26\n",
      "Compute paths for 2020-07-27\n",
      "Compute paths for 2020-07-28\n",
      "Compute paths for 2020-07-29\n",
      "Compute paths for 2020-07-30\n",
      "Compute paths for 2020-07-31\n",
      "Compute paths for 2020-08-01\n",
      "Compute paths for 2020-08-02\n",
      "Compute paths for 2020-08-03\n",
      "Compute paths for 2020-08-04\n",
      "Compute paths for 2020-08-05\n",
      "Compute paths for 2020-08-06\n",
      "Compute paths for 2020-08-07\n",
      "Compute paths for 2020-08-08\n",
      "Compute paths for 2020-08-09\n",
      "Compute paths for 2020-08-10\n",
      "Compute paths for 2020-08-11\n",
      "Compute paths for 2020-08-12\n",
      "Compute paths for 2020-08-13\n",
      "Compute paths for 2020-08-14\n",
      "Compute paths for 2020-08-15\n",
      "Compute paths for 2020-08-16\n",
      "Compute paths for 2020-08-17\n",
      "Compute paths for 2020-08-18\n",
      "Compute paths for 2020-08-19\n",
      "Compute paths for 2020-08-20\n",
      "Compute paths for 2020-08-21\n",
      "Compute paths for 2020-08-22\n",
      "Compute paths for 2020-08-23\n",
      "Compute paths for 2020-08-24\n",
      "Compute paths for 2020-08-25\n",
      "Compute paths for 2020-08-26\n",
      "Compute paths for 2020-08-27\n",
      "Compute paths for 2020-08-28\n",
      "Compute paths for 2020-08-29\n",
      "Compute paths for 2020-08-30\n",
      "Compute paths for 2020-08-31\n",
      "Compute paths for 2020-09-01\n",
      "Compute paths for 2020-09-02\n",
      "Compute paths for 2020-09-03\n",
      "Compute paths for 2020-09-04\n",
      "Compute paths for 2020-09-05\n",
      "Compute paths for 2020-09-06\n",
      "Compute paths for 2020-09-07\n",
      "Compute paths for 2020-09-08\n",
      "Compute paths for 2020-09-09\n",
      "Compute paths for 2020-09-10\n",
      "Compute paths for 2020-09-11\n",
      "Compute paths for 2020-09-12\n",
      "Compute paths for 2020-09-13\n",
      "Compute paths for 2020-09-14\n",
      "Compute paths for 2020-09-15\n",
      "Compute paths for 2020-09-16\n",
      "Compute paths for 2020-09-17\n",
      "Compute paths for 2020-09-18\n",
      "Compute paths for 2020-09-19\n",
      "Compute paths for 2020-09-20\n",
      "Compute paths for 2020-09-21\n",
      "Compute paths for 2020-09-22\n",
      "Compute paths for 2020-09-23\n",
      "Compute paths for 2020-09-24\n",
      "Compute paths for 2020-09-25\n",
      "Compute paths for 2020-09-26\n",
      "Compute paths for 2020-09-27\n",
      "Compute paths for 2020-09-28\n",
      "Compute paths for 2020-09-29\n",
      "Compute paths for 2020-09-30\n",
      "Compute paths for 2020-10-01\n",
      "Compute paths for 2020-10-02\n",
      "Compute paths for 2020-10-03\n",
      "Compute paths for 2020-10-04\n",
      "Compute paths for 2020-10-05\n",
      "Compute paths for 2020-10-06\n",
      "Compute paths for 2020-10-07\n",
      "Compute paths for 2020-10-08\n",
      "Compute paths for 2020-10-09\n",
      "Compute paths for 2020-10-10\n",
      "Compute paths for 2020-10-11\n",
      "Compute paths for 2020-10-12\n",
      "Compute paths for 2020-10-13\n",
      "Compute paths for 2020-10-14\n",
      "Compute paths for 2020-10-15\n",
      "Compute paths for 2020-10-16\n",
      "Compute paths for 2020-10-17\n",
      "Compute paths for 2020-10-18\n",
      "Compute paths for 2020-10-19\n",
      "Compute paths for 2020-10-20\n",
      "Compute paths for 2020-10-21\n",
      "Compute paths for 2020-10-22\n"
     ]
    }
   ],
   "source": [
    "Text = open(\"../../Solais_Data/valid_img_paths.txt\", \"a+\")\n",
    "for daily_gen in path_gen:\n",
    "    for path in daily_gen:\n",
    "        Text.write(\"\\n\")\n",
    "        Text.write(path)\n",
    "Text.close()"
   ]
  }
 ]
}